{
 "cells": [
  {
   "cell_type": "code",
   "execution_count": 1,
   "id": "1b3cbc01",
   "metadata": {},
   "outputs": [],
   "source": [
    "# read in libraries\n",
    "import tensorflow as tf\n",
    "from tensorflow.keras import backend, models, layers, optimizers\n",
    "import numpy as np\n",
    "from tensorflow.keras.layers import GlobalAveragePooling2D\n",
    "from tensorflow.keras.callbacks import EarlyStopping\n",
    "from sklearn.model_selection import train_test_split\n",
    "from tensorflow.keras.utils import plot_model\n",
    "from IPython.display import display\n",
    "from PIL import Image\n",
    "from tensorflow.keras.preprocessing.image import ImageDataGenerator\n",
    "import os, shutil\n",
    "from tensorflow.keras.models import Model\n",
    "from shutil import copyfile\n",
    "import scipy\n",
    "np.random.seed(42)"
   ]
  },
  {
   "cell_type": "code",
   "execution_count": 22,
   "id": "d25135af",
   "metadata": {},
   "outputs": [
    {
     "name": "stdout",
     "output_type": "stream",
     "text": [
      "Found 778 images belonging to 30 classes.\n",
      "Found 193 images belonging to 30 classes.\n"
     ]
    }
   ],
   "source": [
    "base_dir = 'C:/Users/asus/Documents/Bachelor Project/bsc project'  \n",
    "train_dir = os.path.join(base_dir, 'Training')\n",
    "test_dir = os.path.join(base_dir, 'Test')\n",
    "\n",
    "# Add our data-augmentation parameters to ImageDataGenerator\n",
    "\n",
    "train_datagen = ImageDataGenerator(rotation_range=30, width_shift_range=0.2, height_shift_range=0.2, rescale = 1./255., shear_range = 30, zoom_range = 0.3, horizontal_flip = True)\n",
    "\n",
    "test_datagen = ImageDataGenerator(rescale = 1.0/255.)\n",
    "\n",
    "train_generator = train_datagen.flow_from_directory(train_dir, batch_size = 20, class_mode = 'categorical', target_size = (224, 224))\n",
    "\n",
    "test_generator = test_datagen.flow_from_directory(test_dir, batch_size = 20, class_mode = 'categorical', target_size = (224, 224), shuffle=False)"
   ]
  },
  {
   "cell_type": "code",
   "execution_count": 4,
   "id": "dc31f784",
   "metadata": {},
   "outputs": [
    {
     "name": "stdout",
     "output_type": "stream",
     "text": [
      "Model: \"vgg16\"\n",
      "_________________________________________________________________\n",
      "Layer (type)                 Output Shape              Param #   \n",
      "=================================================================\n",
      "input_1 (InputLayer)         [(None, 224, 224, 3)]     0         \n",
      "_________________________________________________________________\n",
      "block1_conv1 (Conv2D)        (None, 224, 224, 64)      1792      \n",
      "_________________________________________________________________\n",
      "block1_conv2 (Conv2D)        (None, 224, 224, 64)      36928     \n",
      "_________________________________________________________________\n",
      "block1_pool (MaxPooling2D)   (None, 112, 112, 64)      0         \n",
      "_________________________________________________________________\n",
      "block2_conv1 (Conv2D)        (None, 112, 112, 128)     73856     \n",
      "_________________________________________________________________\n",
      "block2_conv2 (Conv2D)        (None, 112, 112, 128)     147584    \n",
      "_________________________________________________________________\n",
      "block2_pool (MaxPooling2D)   (None, 56, 56, 128)       0         \n",
      "_________________________________________________________________\n",
      "block3_conv1 (Conv2D)        (None, 56, 56, 256)       295168    \n",
      "_________________________________________________________________\n",
      "block3_conv2 (Conv2D)        (None, 56, 56, 256)       590080    \n",
      "_________________________________________________________________\n",
      "block3_conv3 (Conv2D)        (None, 56, 56, 256)       590080    \n",
      "_________________________________________________________________\n",
      "block3_pool (MaxPooling2D)   (None, 28, 28, 256)       0         \n",
      "_________________________________________________________________\n",
      "block4_conv1 (Conv2D)        (None, 28, 28, 512)       1180160   \n",
      "_________________________________________________________________\n",
      "block4_conv2 (Conv2D)        (None, 28, 28, 512)       2359808   \n",
      "_________________________________________________________________\n",
      "block4_conv3 (Conv2D)        (None, 28, 28, 512)       2359808   \n",
      "_________________________________________________________________\n",
      "block4_pool (MaxPooling2D)   (None, 14, 14, 512)       0         \n",
      "_________________________________________________________________\n",
      "block5_conv1 (Conv2D)        (None, 14, 14, 512)       2359808   \n",
      "_________________________________________________________________\n",
      "block5_conv2 (Conv2D)        (None, 14, 14, 512)       2359808   \n",
      "_________________________________________________________________\n",
      "block5_conv3 (Conv2D)        (None, 14, 14, 512)       2359808   \n",
      "_________________________________________________________________\n",
      "block5_pool (MaxPooling2D)   (None, 7, 7, 512)         0         \n",
      "=================================================================\n",
      "Total params: 14,714,688\n",
      "Trainable params: 7,079,424\n",
      "Non-trainable params: 7,635,264\n",
      "_________________________________________________________________\n"
     ]
    }
   ],
   "source": [
    "from tensorflow.keras.applications.vgg16 import VGG16\n",
    "\n",
    "base_model = VGG16(input_shape=(224, 224,3), include_top=False, weights=\"imagenet\")\n",
    "for layer in base_model.layers:\n",
    "    if not layer.name.startswith(\"block5_conv\"):\n",
    "        layer.trainable = False\n",
    "base_model.summary()"
   ]
  },
  {
   "cell_type": "code",
   "execution_count": 5,
   "id": "b42529f5",
   "metadata": {},
   "outputs": [],
   "source": [
    "# Connect the VGG output to the fully connected layers\n",
    "model = base_model.output\n",
    "pool = GlobalAveragePooling2D()(model)\n",
    "#dense_1 = layers.Dense(512, activation = 'relu')(pool)\n",
    "output = layers.Dense(30, activation = 'softmax')(pool)"
   ]
  },
  {
   "cell_type": "code",
   "execution_count": 6,
   "id": "e9ba7e56",
   "metadata": {},
   "outputs": [],
   "source": [
    "complete_model = models.Model(inputs=base_model.input, outputs=output)\n",
    "\n",
    "complete_model.compile(optimizer = tf.keras.optimizers.SGD(learning_rate=0.0001, momentum=0.9), loss = 'categorical_crossentropy', metrics = ['acc'])"
   ]
  },
  {
   "cell_type": "code",
   "execution_count": 18,
   "id": "51b8e444",
   "metadata": {},
   "outputs": [],
   "source": [
    "for layer in complete_model.layers:\n",
    "    layer.trainable = True\n",
    "complete_model.compile(optimizer = tf.keras.optimizers.SGD(learning_rate=0.0001, momentum=0.9), loss = 'categorical_crossentropy', metrics = ['acc'])"
   ]
  },
  {
   "cell_type": "code",
   "execution_count": 28,
   "id": "9aaa204e",
   "metadata": {},
   "outputs": [
    {
     "name": "stdout",
     "output_type": "stream",
     "text": [
      "39/39 [==============================] - 1266s 33s/step - loss: 0.2466 - acc: 0.9203 - val_loss: 0.6980 - val_acc: 0.8342\n",
      "Runtime of the program is 1266.731051683426\n"
     ]
    },
    {
     "data": {
      "image/png": "[encoded data removed]",
      "text/plain": [
       "<Figure size 432x288 with 1 Axes>"
      ]
     },
     "metadata": {
      "needs_background": "light"
     },
     "output_type": "display_data"
    },
    {
     "data": {
      "image/png": "[encoded data removed]",
      "text/plain": [
       "<Figure size 432x288 with 1 Axes>"
      ]
     },
     "metadata": {
      "needs_background": "light"
     },
     "output_type": "display_data"
    }
   ],
   "source": [
    "import matplotlib.pyplot as plt\n",
    "import time\n",
    "\n",
    "start = time.time()\n",
    "history = complete_model.fit(train_generator, validation_data = test_generator, epochs = 1,\n",
    "        callbacks=[EarlyStopping(monitor='val_acc', patience = 1, restore_best_weights = True)])\n",
    "end = time.time()\n",
    "print(f\"Runtime of the program is {end - start}\")\n",
    "\n",
    "# summarize history for accuracy\n",
    "plt.plot(history.history['acc'])\n",
    "plt.plot(history.history['val_acc'])\n",
    "plt.title('model accuracy')\n",
    "plt.ylabel('accuracy')\n",
    "plt.xlabel('epoch')\n",
    "plt.legend(['train', 'test'], loc='upper left')\n",
    "plt.show()\n",
    "# summarize history for loss\n",
    "plt.plot(history.history['loss'])\n",
    "plt.plot(history.history['val_loss'])\n",
    "plt.title('model loss')\n",
    "plt.ylabel('loss')\n",
    "plt.xlabel('epoch')\n",
    "plt.legend(['train', 'test'], loc='upper left')\n",
    "plt.show()"
   ]
  },
  {
   "cell_type": "code",
   "execution_count": 8,
   "id": "fd37374e",
   "metadata": {},
   "outputs": [],
   "source": [
    "a = history.history['acc'].copy()\n",
    "b = history.history['val_acc'].copy()\n",
    "c = history.history['loss'].copy()\n",
    "d = history.history['val_loss'].copy()"
   ]
  },
  {
   "cell_type": "code",
   "execution_count": 29,
   "id": "f3097cd5",
   "metadata": {},
   "outputs": [
    {
     "data": {
      "image/png": "[encoded data removed]",
      "text/plain": [
       "<Figure size 432x288 with 1 Axes>"
      ]
     },
     "metadata": {
      "needs_background": "light"
     },
     "output_type": "display_data"
    },
    {
     "data": {
      "image/png": "[encoded data removed]",
      "text/plain": [
       "<Figure size 432x288 with 1 Axes>"
      ]
     },
     "metadata": {
      "needs_background": "light"
     },
     "output_type": "display_data"
    }
   ],
   "source": [
    "a = a + history.history['acc']\n",
    "b = b + history.history['val_acc']\n",
    "c = c + history.history['loss']\n",
    "d = d + history.history['val_loss']\n",
    "# summarize history for accuracy\n",
    "plt.plot(a)\n",
    "plt.plot(b)\n",
    "plt.title('model accuracy')\n",
    "plt.ylabel('accuracy')\n",
    "plt.xlabel('epoch')\n",
    "plt.legend(['train', 'test'], loc='upper left')\n",
    "plt.show()\n",
    "# summarize history for loss\n",
    "plt.plot(c)\n",
    "plt.plot(d)\n",
    "plt.title('model loss')\n",
    "plt.ylabel('loss')\n",
    "plt.xlabel('epoch')\n",
    "plt.legend(['train', 'test'], loc='upper left')\n",
    "plt.show()"
   ]
  },
  {
   "cell_type": "code",
   "execution_count": 31,
   "id": "38a2462d",
   "metadata": {},
   "outputs": [
    {
     "name": "stdout",
     "output_type": "stream",
     "text": [
      "10/10 [==============================] - 80s 8s/step - loss: 0.6980 - acc: 0.8342\n",
      "Model testing accuracy/testing loss: 0.8341968655586243   0.6979871988296509\n",
      "[28 28  0 25  0  1  1  1  1  1  1 24  1  1 24  2  2  2  2  2  2  2 21  3\n",
      "  3  4  4  4  4  4  5  5  5  5  6 20  5  5  6  6  6  6  6  6 24  7  7  7\n",
      "  7  8  1  8  8  8 24 27  8  8  8  9 10 22 11 11 11 11 11 11 11 11 12 12\n",
      " 12 12  6 12 13 13 10 10  1 14 14 14 14 14 14 14 14 15 15 19 19  7 22 16\n",
      " 16 16 16 16 16 16 16 17 17 17 17 17 18  8 18  1 18 18 12 18 18 19 19 19\n",
      " 19 19 19 19 19 20 20 21 21 21  2  2 21 24 22 22 22 22 22 22 23 23 23 23\n",
      " 23 24 24 24  1 25 25 25 25 25 25 25 25  1 26 26 26 26 26 26 26 26 27 27\n",
      " 27 27 27 27 27 27 27 27 27 28 28 28 28 28 28 28 28 28 28 29 13 21 23 29\n",
      " 29]\n",
      "Confusion Matrix\n",
      "[[ 2  0  0  0  0  0  0  0  0  0  0  0  0  0  0  0  0  0  0  0  0  0  0  0\n",
      "   0  1  0  0  2  0]\n",
      " [ 0  8  0  0  0  0  0  0  0  0  0  0  0  0  0  0  0  0  0  0  0  0  0  0\n",
      "   1  0  0  0  0  0]\n",
      " [ 0  0  7  0  0  0  0  0  0  0  0  0  0  0  0  0  0  0  0  0  0  1  0  0\n",
      "   1  0  0  0  0  0]\n",
      " [ 0  0  0  2  0  0  0  0  0  0  0  0  0  0  0  0  0  0  0  0  0  0  0  0\n",
      "   0  0  0  0  0  0]\n",
      " [ 0  0  0  0  5  0  0  0  0  0  0  0  0  0  0  0  0  0  0  0  0  0  0  0\n",
      "   0  0  0  0  0  0]\n",
      " [ 0  0  0  0  0  6  1  0  0  0  0  0  0  0  0  0  0  0  0  0  1  0  0  0\n",
      "   0  0  0  0  0  0]\n",
      " [ 0  0  0  0  0  0  6  0  0  0  0  0  0  0  0  0  0  0  0  0  0  0  0  0\n",
      "   1  0  0  0  0  0]\n",
      " [ 0  0  0  0  0  0  0  4  0  0  0  0  0  0  0  0  0  0  0  0  0  0  0  0\n",
      "   0  0  0  0  0  0]\n",
      " [ 0  1  0  0  0  0  0  0  7  0  0  0  0  0  0  0  0  0  0  0  0  0  0  0\n",
      "   1  0  0  1  0  0]\n",
      " [ 0  0  0  0  0  0  0  0  0  1  0  0  0  0  0  0  0  0  0  0  0  0  0  0\n",
      "   0  0  0  0  0  0]\n",
      " [ 0  0  0  0  0  0  0  0  0  0  1  0  0  0  0  0  0  0  0  0  0  0  1  0\n",
      "   0  0  0  0  0  0]\n",
      " [ 0  0  0  0  0  0  0  0  0  0  0  8  0  0  0  0  0  0  0  0  0  0  0  0\n",
      "   0  0  0  0  0  0]\n",
      " [ 0  0  0  0  0  0  1  0  0  0  0  0  5  0  0  0  0  0  0  0  0  0  0  0\n",
      "   0  0  0  0  0  0]\n",
      " [ 0  1  0  0  0  0  0  0  0  0  2  0  0  2  0  0  0  0  0  0  0  0  0  0\n",
      "   0  0  0  0  0  0]\n",
      " [ 0  0  0  0  0  0  0  0  0  0  0  0  0  0  8  0  0  0  0  0  0  0  0  0\n",
      "   0  0  0  0  0  0]\n",
      " [ 0  0  0  0  0  0  0  1  0  0  0  0  0  0  0  2  0  0  0  2  0  0  1  0\n",
      "   0  0  0  0  0  0]\n",
      " [ 0  0  0  0  0  0  0  0  0  0  0  0  0  0  0  0  8  0  0  0  0  0  0  0\n",
      "   0  0  0  0  0  0]\n",
      " [ 0  0  0  0  0  0  0  0  0  0  0  0  0  0  0  0  0  5  0  0  0  0  0  0\n",
      "   0  0  0  0  0  0]\n",
      " [ 0  1  0  0  0  0  0  0  1  0  0  0  1  0  0  0  0  0  6  0  0  0  0  0\n",
      "   0  0  0  0  0  0]\n",
      " [ 0  0  0  0  0  0  0  0  0  0  0  0  0  0  0  0  0  0  0  8  0  0  0  0\n",
      "   0  0  0  0  0  0]\n",
      " [ 0  0  0  0  0  0  0  0  0  0  0  0  0  0  0  0  0  0  0  0  2  0  0  0\n",
      "   0  0  0  0  0  0]\n",
      " [ 0  0  2  0  0  0  0  0  0  0  0  0  0  0  0  0  0  0  0  0  0  4  0  0\n",
      "   1  0  0  0  0  0]\n",
      " [ 0  0  0  0  0  0  0  0  0  0  0  0  0  0  0  0  0  0  0  0  0  0  6  0\n",
      "   0  0  0  0  0  0]\n",
      " [ 0  0  0  0  0  0  0  0  0  0  0  0  0  0  0  0  0  0  0  0  0  0  0  5\n",
      "   0  0  0  0  0  0]\n",
      " [ 0  1  0  0  0  0  0  0  0  0  0  0  0  0  0  0  0  0  0  0  0  0  0  0\n",
      "   3  0  0  0  0  0]\n",
      " [ 0  1  0  0  0  0  0  0  0  0  0  0  0  0  0  0  0  0  0  0  0  0  0  0\n",
      "   0  8  0  0  0  0]\n",
      " [ 0  0  0  0  0  0  0  0  0  0  0  0  0  0  0  0  0  0  0  0  0  0  0  0\n",
      "   0  0  8  0  0  0]\n",
      " [ 0  0  0  0  0  0  0  0  0  0  0  0  0  0  0  0  0  0  0  0  0  0  0  0\n",
      "   0  0  0 11  0  0]\n",
      " [ 0  0  0  0  0  0  0  0  0  0  0  0  0  0  0  0  0  0  0  0  0  0  0  0\n",
      "   0  0  0  0 10  0]\n",
      " [ 0  0  0  0  0  0  0  0  0  0  0  0  0  1  0  0  0  0  0  0  0  1  0  1\n",
      "   0  0  0  0  0  3]]\n",
      "Classification Report\n",
      "              precision    recall  f1-score   support\n",
      "\n",
      "    acerolas       1.00      0.40      0.57         5\n",
      "      apples       0.62      0.89      0.73         9\n",
      "    apricots       0.78      0.78      0.78         9\n",
      "    avocados       1.00      1.00      1.00         2\n",
      "     bananas       1.00      1.00      1.00         5\n",
      "blackberries       1.00      0.75      0.86         8\n",
      " blueberries       0.75      0.86      0.80         7\n",
      " cantaloupes       0.80      1.00      0.89         4\n",
      "    cherries       0.88      0.70      0.78        10\n",
      "    coconuts       1.00      1.00      1.00         1\n",
      "        figs       0.33      0.50      0.40         2\n",
      " grapefruits       1.00      1.00      1.00         8\n",
      "      grapes       0.83      0.83      0.83         6\n",
      "       guava       0.67      0.40      0.50         5\n",
      "   kiwifruit       1.00      1.00      1.00         8\n",
      "      lemons       1.00      0.33      0.50         6\n",
      "       limes       1.00      1.00      1.00         8\n",
      "      mangos       1.00      1.00      1.00         5\n",
      "      olives       1.00      0.67      0.80         9\n",
      "     oranges       0.80      1.00      0.89         8\n",
      "passionfruit       0.67      1.00      0.80         2\n",
      "     peaches       0.67      0.57      0.62         7\n",
      "       pears       0.75      1.00      0.86         6\n",
      "  pineapples       0.83      1.00      0.91         5\n",
      "       plums       0.38      0.75      0.50         4\n",
      "pomegranates       0.89      0.89      0.89         9\n",
      " raspberries       1.00      1.00      1.00         8\n",
      "strawberries       0.92      1.00      0.96        11\n",
      "    tomatoes       0.83      1.00      0.91        10\n",
      " watermelons       1.00      0.50      0.67         6\n",
      "\n",
      "    accuracy                           0.83       193\n",
      "   macro avg       0.85      0.83      0.81       193\n",
      "weighted avg       0.86      0.83      0.83       193\n",
      "\n"
     ]
    }
   ],
   "source": [
    "from sklearn.metrics import classification_report, confusion_matrix\n",
    "\n",
    "# Evaluate the test accuracy and test loss of the model\n",
    "test_loss, test_acc = complete_model.evaluate(test_generator)\n",
    "print('Model testing accuracy/testing loss:', test_acc, \" \", test_loss)\n",
    "\n",
    "#Confution Matrix and Classification Report\n",
    "Y_pred = complete_model.predict(test_generator, 193 // 20+1)\n",
    "y_pred = np.argmax(Y_pred, axis=1)\n",
    "print(y_pred)\n",
    "print('Confusion Matrix')\n",
    "print(confusion_matrix(test_generator.classes, y_pred))\n",
    "print('Classification Report')\n",
    "target_names = ['acerolas','apples','apricots','avocados','bananas','blackberries','blueberries','cantaloupes','cherries','coconuts','figs','grapefruits','grapes','guava','kiwifruit','lemons','limes','mangos','olives','oranges','passionfruit','peaches','pears','pineapples','plums','pomegranates','raspberries','strawberries','tomatoes','watermelons']\n",
    "print(classification_report(test_generator.classes, y_pred, target_names=target_names))"
   ]
  },
  {
   "cell_type": "code",
   "execution_count": 30,
   "id": "1bace43a",
   "metadata": {},
   "outputs": [],
   "source": [
    "# serialize to JSON\n",
    "json_file = complete_model.to_json()\n",
    "with open(\"C:/Users/asus/Documents/Bachelor Project/bsc project/vgg_fine_tuning_62.json\", \"w\") as file:\n",
    "   file.write(json_file)\n",
    "# serialize weights to HDF5\n",
    "complete_model.save_weights(\"vgg_fine_tuning_62.h5\")"
   ]
  },
  {
   "cell_type": "code",
   "execution_count": 3,
   "id": "aaa94878",
   "metadata": {},
   "outputs": [
    {
     "name": "stdout",
     "output_type": "stream",
     "text": [
      "10/10 [==============================] - 70s 7s/step - loss: 1.1108 - acc: 0.8187\n",
      "Model testing accuracy/testing loss: 0.818652868270874   1.1107587814331055\n"
     ]
    }
   ],
   "source": [
    "from tensorflow.keras.models import model_from_json\n",
    "\n",
    "# load json and create model\n",
    "file = open(\"C:/Users/asus/Documents/Bachelor Project/bsc project/vgg.json\", 'r')\n",
    "model_json = file.read()\n",
    "file.close()\n",
    "loaded_model = model_from_json(model_json)\n",
    "# load weights\n",
    "loaded_model.load_weights(\"vgg.h5\")\n",
    "\n",
    "loaded_model.compile(optimizer = tf.keras.optimizers.SGD(learning_rate=0.0001, momentum=0.9), loss = 'categorical_crossentropy', metrics = ['acc'])\n",
    "\n",
    "test_loss, test_acc = loaded_model.evaluate(test_generator)\n",
    "print('Model testing accuracy/testing loss:', test_acc, \" \", test_loss)\n",
    "complete_model = loaded_model"
   ]
  }
 ],
 "metadata": {
  "kernelspec": {
   "display_name": "Python 3",
   "language": "python",
   "name": "python3"
  },
  "language_info": {
   "codemirror_mode": {
    "name": "ipython",
    "version": 3
   },
   "file_extension": ".py",
   "mimetype": "text/x-python",
   "name": "python",
   "nbconvert_exporter": "python",
   "pygments_lexer": "ipython3",
   "version": "3.9.4"
  }
 },
 "nbformat": 4,
 "nbformat_minor": 5
}
